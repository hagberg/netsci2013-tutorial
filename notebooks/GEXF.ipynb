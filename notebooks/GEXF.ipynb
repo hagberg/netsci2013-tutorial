{
 "metadata": {
  "name": "GEXF"
 },
 "nbformat": 3,
 "nbformat_minor": 0,
 "worksheets": [
  {
   "cells": [
    {
     "cell_type": "code",
     "collapsed": false,
     "input": [
      "\n",
      "import urllib2\n",
      "import networkx as nx\n",
      "# data = urllib2.urlopen('http://gexf.net/data/viz.gexf')\n",
      "# G = nx.read_gexf(data)\n",
      "G = nx.read_gexf('viz.gexf')\n",
      "print G.nodes()\n",
      "\n",
      "\n",
      "\n"
     ],
     "language": "python",
     "metadata": {},
     "outputs": [
      {
       "output_type": "stream",
       "stream": "stdout",
       "text": [
        "['a']\n"
       ]
      }
     ],
     "prompt_number": 23
    },
    {
     "cell_type": "code",
     "collapsed": false,
     "input": [
      "print G.node['a']\n",
      "G.node['a']['viz']['position']['x']=10\n",
      "G.node['a']['viz']['position']['y']=20\n",
      "print G.node['a']\n"
     ],
     "language": "python",
     "metadata": {},
     "outputs": [
      {
       "output_type": "stream",
       "stream": "stdout",
       "text": [
        "{'viz': {'color': {'a': 0.6, 'r': 239, 'b': 66, 'g': 173}, 'position': {'y': 40.109245, 'x': 15.783598, 'z': 0.0}, 'size': 2.0375757}, 'label': 'glossy'}\n",
        "{'viz': {'color': {'a': 0.6, 'r': 239, 'b': 66, 'g': 173}, 'position': {'y': 20, 'x': 10, 'z': 0.0}, 'size': 2.0375757}, 'label': 'glossy'}\n"
       ]
      }
     ],
     "prompt_number": 24
    },
    {
     "cell_type": "code",
     "collapsed": false,
     "input": [
      "import sys\n",
      "nx.write_gexf(G,sys.stdout)\n",
      "nx.write_gexf(G,'myfile.gexf')"
     ],
     "language": "python",
     "metadata": {},
     "outputs": [
      {
       "output_type": "stream",
       "stream": "stdout",
       "text": [
        "<?xml version=\"1.0\" encoding=\"utf-8\"?><gexf xmlns:ns0=\"http://www.gexf.net/1.1draft/viz\" version=\"1.1\" xmlns=\"http://www.gexf.net/1.1draft\" xmlns:viz=\"http://www.gexf.net/1.1draft/viz\" xmlns:xsi=\"http://www.w3.org/2001/XMLSchema-instance\" xsi:schemaLocation=\"http://www.w3.org/2001/XMLSchema-instance\">\n",
        "  <graph defaultedgetype=\"undirected\" mode=\"static\">\n",
        "    <nodes>\n",
        "      <node id=\"a\" label=\"glossy\">\n",
        "        <ns0:color b=\"66\" g=\"173\" r=\"239\" />\n",
        "        <ns0:size value=\"2.0375757\" />\n",
        "        <ns0:position x=\"10\" y=\"20\" z=\"0.0\" />\n",
        "      </node>\n",
        "    </nodes>\n",
        "    <edges />\n",
        "  </graph>\n",
        "</gexf>\n"
       ]
      }
     ],
     "prompt_number": 25
    }
   ],
   "metadata": {}
  }
 ]
}