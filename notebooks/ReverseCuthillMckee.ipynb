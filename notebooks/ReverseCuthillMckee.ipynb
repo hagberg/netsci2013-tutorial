{
 "metadata": {
  "name": "ReverseCuthillMckee"
 },
 "nbformat": 3,
 "nbformat_minor": 0,
 "worksheets": [
  {
   "cells": [
    {
     "cell_type": "code",
     "collapsed": false,
     "input": [
      "import networkx as nx\n",
      "from networkx.utils import reverse_cuthill_mckee_ordering\n",
      "import numpy as np\n",
      "\n",
      "G=nx.grid_2d_graph(3,3)\n",
      "nx.draw(G, with_labels=False)\n",
      "\n"
     ],
     "language": "python",
     "metadata": {},
     "outputs": [
      {
       "output_type": "display_data",
       "png": "[encoded data removed]"
      }
     ],
     "prompt_number": 21
    },
    {
     "cell_type": "code",
     "collapsed": false,
     "input": [
      "\n",
      "\n",
      "print(\"unordered Laplacian matrix\")\n",
      "nodelist = G.nodes()\n",
      "print \"ordering\", nodelist\n",
      "A = nx.laplacian_matrix(G, nodelist=nodelist)\n",
      "x,y = np.nonzero(A)\n",
      "#print(\"lower bandwidth:\",(y-x).max())\n",
      "#print(\"upper bandwidth:\",(x-y).max())\n",
      "print(\"bandwidth: %d\"%((y-x).max()+(x-y).max()+1))\n",
      "print A"
     ],
     "language": "python",
     "metadata": {},
     "outputs": [
      {
       "output_type": "stream",
       "stream": "stdout",
       "text": [
        "unordered Laplacian matrix\n",
        "ordering [(0, 1), (1, 2), (0, 0), (2, 1), (1, 1), (2, 0), (2, 2), (1, 0), (0, 2)]\n",
        "bandwidth: 17\n",
        "[[ 3.  0. -1.  0. -1.  0.  0.  0. -1.]\n",
        " [ 0.  3.  0.  0. -1.  0. -1.  0. -1.]\n",
        " [-1.  0.  2.  0.  0.  0.  0. -1.  0.]\n",
        " [ 0.  0.  0.  3. -1. -1. -1.  0.  0.]\n",
        " [-1. -1.  0. -1.  4.  0.  0. -1.  0.]\n",
        " [ 0.  0.  0. -1.  0.  2.  0. -1.  0.]\n",
        " [ 0. -1.  0. -1.  0.  0.  2.  0.  0.]\n",
        " [ 0.  0. -1.  0. -1. -1.  0.  3.  0.]\n",
        " [-1. -1.  0.  0.  0.  0.  0.  0.  2.]]\n"
       ]
      }
     ],
     "prompt_number": 22
    },
    {
     "cell_type": "code",
     "collapsed": false,
     "input": [
      "rcm = list(reverse_cuthill_mckee_ordering(G))    \n",
      "print \"ordering\", rcm\n",
      "B = nx.laplacian_matrix(G,nodelist=rcm)\n",
      "print(\"low-bandwidth Laplacian matrix\")\n",
      "x,y = np.nonzero(B)\n",
      "#print(\"lower bandwidth:\",(y-x).max())\n",
      "#print(\"upper bandwidth:\",(x-y).max())\n",
      "print(\"bandwidth: %d\"%((y-x).max()+(x-y).max()+1))\n",
      "print B\n"
     ],
     "language": "python",
     "metadata": {},
     "outputs": [
      {
       "output_type": "stream",
       "stream": "stdout",
       "text": [
        "ordering [(2, 0), (1, 0), (2, 1), (0, 0), (1, 1), (2, 2), (0, 1), (1, 2), (0, 2)]\n",
        "low-bandwidth Laplacian matrix\n",
        "bandwidth: 7\n",
        "[[ 2. -1. -1.  0.  0.  0.  0.  0.  0.]\n",
        " [-1.  3.  0. -1. -1.  0.  0.  0.  0.]\n",
        " [-1.  0.  3.  0. -1. -1.  0.  0.  0.]\n",
        " [ 0. -1.  0.  2.  0.  0. -1.  0.  0.]\n",
        " [ 0. -1. -1.  0.  4.  0. -1. -1.  0.]\n",
        " [ 0.  0. -1.  0.  0.  2.  0. -1.  0.]\n",
        " [ 0.  0.  0. -1. -1.  0.  3.  0. -1.]\n",
        " [ 0.  0.  0.  0. -1. -1.  0.  3. -1.]\n",
        " [ 0.  0.  0.  0.  0.  0. -1. -1.  2.]]\n"
       ]
      }
     ],
     "prompt_number": 23
    },
    {
     "cell_type": "code",
     "collapsed": false,
     "input": [
      "matshow(A)\n",
      "matshow(B)\n"
     ],
     "language": "python",
     "metadata": {},
     "outputs": [
      {
       "output_type": "pyout",
       "prompt_number": 24,
       "text": [
        "<matplotlib.image.AxesImage at 0x344a410>"
       ]
      },
      {
       "output_type": "display_data",
       "png": "[encoded data removed]"
      },
      {
       "output_type": "display_data",
       "png": "[encoded data removed]"
      }
     ],
     "prompt_number": 24
    },
    {
     "cell_type": "code",
     "collapsed": false,
     "input": [
      "x\n"
     ],
     "language": "python",
     "metadata": {},
     "outputs": [
      {
       "output_type": "pyout",
       "prompt_number": 25,
       "text": [
        "array([0, 0, 0, 1, 1, 1, 1, 2, 2, 2, 2, 3, 3, 3, 4, 4, 4, 4, 4, 5, 5, 5, 6,\n",
        "       6, 6, 6, 7, 7, 7, 7, 8, 8, 8])"
       ]
      }
     ],
     "prompt_number": 25
    },
    {
     "cell_type": "code",
     "collapsed": false,
     "input": [
      "y"
     ],
     "language": "python",
     "metadata": {},
     "outputs": [
      {
       "output_type": "pyout",
       "prompt_number": 26,
       "text": [
        "array([0, 1, 2, 0, 1, 3, 4, 0, 2, 4, 5, 1, 3, 6, 1, 2, 4, 6, 7, 2, 5, 7, 3,\n",
        "       4, 6, 8, 4, 5, 7, 8, 6, 7, 8])"
       ]
      }
     ],
     "prompt_number": 26
    },
    {
     "cell_type": "code",
     "collapsed": false,
     "input": [],
     "language": "python",
     "metadata": {},
     "outputs": [],
     "prompt_number": 26
    }
   ],
   "metadata": {}
  }
 ]
}