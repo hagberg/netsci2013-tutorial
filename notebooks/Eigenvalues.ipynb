{
 "metadata": {
  "name": "Eigenvalues"
 },
 "nbformat": 3,
 "nbformat_minor": 0,
 "worksheets": [
  {
   "cells": [
    {
     "cell_type": "code",
     "collapsed": false,
     "input": [
      "from networkx import *\n",
      "import numpy.linalg\n",
      "eigenvalues = numpy.linalg.eigvals\n",
      "# G = gnm_random_graph(1000,5000)\n",
      "G = fast_gnp_random_graph(1000,0.01)\n",
      "L = normalized_laplacian_matrix(G)\n",
      "e = eigenvalues(L)\n",
      "print(\"Largest eigenvalue:\", max(e))\n",
      "print(\"Smallest eigenvalue:\", min(e))\n",
      "# plot with matplotlib if we have it\n",
      "# shows \"semicircle\" distribution of eigenvalues \n",
      "hist(e,bins=100) # histogram with 100 bins\n",
      "xlim(0,2)  # eigenvalues between 0 and 2\n"
     ],
     "language": "python",
     "metadata": {},
     "outputs": [
      {
       "output_type": "stream",
       "stream": "stdout",
       "text": [
        "('Largest eigenvalue:', 1.5965779080988998)\n",
        "('Smallest eigenvalue:', -1.621936146425434e-16)\n"
       ]
      },
      {
       "output_type": "display_data",
       "png": "[encoded data removed]"
      }
     ],
     "prompt_number": 10
    },
    {
     "cell_type": "code",
     "collapsed": false,
     "input": [],
     "language": "python",
     "metadata": {},
     "outputs": []
    }
   ],
   "metadata": {}
  }
 ]
}