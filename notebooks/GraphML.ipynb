{
 "metadata": {
  "name": "GraphML"
 },
 "nbformat": 3,
 "nbformat_minor": 0,
 "worksheets": [
  {
   "cells": [
    {
     "cell_type": "code",
     "collapsed": false,
     "input": [
      "import networkx as nx\n",
      "G = nx.read_graphml('simple.graphml')\n",
      "print G.nodes()"
     ],
     "language": "python",
     "metadata": {},
     "outputs": [
      {
       "output_type": "stream",
       "stream": "stdout",
       "text": [
        "['n10', 'n8', 'n9', 'n0', 'n1', 'n2', 'n3', 'n4', 'n5', 'n6', 'n7']\n"
       ]
      }
     ],
     "prompt_number": 3
    },
    {
     "cell_type": "code",
     "collapsed": false,
     "input": [
      "import sys\n",
      "nx.write_graphml(G, sys.stdout)"
     ],
     "language": "python",
     "metadata": {},
     "outputs": [
      {
       "output_type": "stream",
       "stream": "stdout",
       "text": [
        "<?xml version=\"1.0\" encoding=\"utf-8\"?><graphml xmlns=\"http://graphml.graphdrawing.org/xmlns\" xmlns:xsi=\"http://www.w3.org/2001/XMLSchema-instance\" xsi:schemaLocation=\"http://graphml.graphdrawing.org/xmlns http://graphml.graphdrawing.org/xmlns/1.0/graphml.xsd\">\n",
        "  <graph edgedefault=\"undirected\">\n",
        "    <node id=\"n10\" />\n",
        "    <node id=\"n8\" />\n",
        "    <node id=\"n9\" />\n",
        "    <node id=\"n0\" />\n",
        "    <node id=\"n1\" />\n",
        "    <node id=\"n2\" />\n",
        "    <node id=\"n3\" />\n",
        "    <node id=\"n4\" />\n",
        "    <node id=\"n5\" />\n",
        "    <node id=\"n6\" />\n",
        "    <node id=\"n7\" />\n",
        "    <edge source=\"n10\" target=\"n8\" />\n",
        "    <edge source=\"n8\" target=\"n9\" />\n",
        "    <edge source=\"n8\" target=\"n6\" />\n",
        "    <edge source=\"n8\" target=\"n7\" />\n",
        "    <edge source=\"n0\" target=\"n2\" />\n",
        "    <edge source=\"n1\" target=\"n2\" />\n",
        "    <edge source=\"n2\" target=\"n3\" />\n",
        "    <edge source=\"n3\" target=\"n4\" />\n",
        "    <edge source=\"n3\" target=\"n5\" />\n",
        "    <edge source=\"n4\" target=\"n6\" />\n",
        "    <edge source=\"n5\" target=\"n6\" />\n",
        "    <edge source=\"n5\" target=\"n7\" />\n",
        "  </graph>\n",
        "</graphml>\n"
       ]
      }
     ],
     "prompt_number": 4
    }
   ],
   "metadata": {}
  }
 ]
}